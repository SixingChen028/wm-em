{
 "cells": [
  {
   "cell_type": "code",
   "execution_count": 4,
   "metadata": {},
   "outputs": [],
   "source": [
    "import torch\n",
    "import matplotlib.pyplot as plt"
   ]
  },
  {
   "cell_type": "code",
   "execution_count": 5,
   "metadata": {},
   "outputs": [],
   "source": [
    "num_targets = 6\n",
    "angles = torch.linspace(0, 2 * torch.pi * (num_targets - 1) / num_targets, num_targets)\n",
    "coordinates = torch.column_stack((torch.cos(angles), torch.sin(angles)))"
   ]
  },
  {
   "cell_type": "code",
   "execution_count": 7,
   "metadata": {},
   "outputs": [
    {
     "data": {
      "image/png": "[encoded data removed]",
      "text/plain": [
       "<Figure size 300x300 with 1 Axes>"
      ]
     },
     "metadata": {},
     "output_type": "display_data"
    }
   ],
   "source": [
    "plt.figure(figsize = (3, 3))\n",
    "plt.scatter(coordinates[:, 0], coordinates[:, 1])\n",
    "plt.show()"
   ]
  },
  {
   "cell_type": "code",
   "execution_count": null,
   "metadata": {},
   "outputs": [],
   "source": []
  },
  {
   "cell_type": "code",
   "execution_count": null,
   "metadata": {},
   "outputs": [],
   "source": []
  },
  {
   "cell_type": "code",
   "execution_count": 6,
   "metadata": {},
   "outputs": [],
   "source": [
    "import os\n",
    "import argparse"
   ]
  },
  {
   "cell_type": "code",
   "execution_count": 10,
   "metadata": {},
   "outputs": [],
   "source": [
    "import sys\n",
    "sys.argv = ['']\n",
    "\n",
    "# parse args\n",
    "parser = argparse.ArgumentParser()\n",
    "\n",
    "# job parameters\n",
    "parser.add_argument('--jobid', type = str, default = '0', help = 'job id')\n",
    "parser.add_argument('--path', type = str, default = os.path.join(os.getcwd(), 'results'), help = 'path to store results')\n",
    "\n",
    "# nework parameters\n",
    "parser.add_argument('--hidden_size', type = int, default = 32, help = 'hidden size')\n",
    "\n",
    "# environment parameters\n",
    "parser.add_argument('--num_items', type = int, default = 3, help = 'number of items')\n",
    "parser.add_argument('--num_targets', type = float, default = 6, help = 'number of targets')\n",
    "parser.add_argument('--t_delay', type = float, default = 1, help = 'delay time')\n",
    "\n",
    "# training parameters\n",
    "parser.add_argument('--dataset_size', type = int, default = 10000, help = 'dataset size')\n",
    "parser.add_argument('--num_epochs', type = int, default = 30, help = 'number of epochs')\n",
    "parser.add_argument('--lr', type = float, default = 1e-3, help = 'learning rate')\n",
    "parser.add_argument('--batch_size', type = int, default = 16, help = 'batch_size')\n",
    "\n",
    "args = parser.parse_args()"
   ]
  },
  {
   "cell_type": "code",
   "execution_count": 12,
   "metadata": {},
   "outputs": [
    {
     "data": {
      "text/plain": [
       "Namespace(jobid='0', path='/Users/sixingchen/Desktop/Codes/wm_em/results', hidden_size=32, num_items=3, num_targets=6, t_delay=1, dataset_size=10000, num_epochs=30, lr=0.001, batch_size=16)"
      ]
     },
     "execution_count": 12,
     "metadata": {},
     "output_type": "execute_result"
    }
   ],
   "source": [
    "args"
   ]
  },
  {
   "cell_type": "code",
   "execution_count": null,
   "metadata": {},
   "outputs": [],
   "source": []
  }
 ],
 "metadata": {
  "kernelspec": {
   "display_name": "Python 3",
   "language": "python",
   "name": "python3"
  },
  "language_info": {
   "codemirror_mode": {
    "name": "ipython",
    "version": 3
   },
   "file_extension": ".py",
   "mimetype": "text/x-python",
   "name": "python",
   "nbconvert_exporter": "python",
   "pygments_lexer": "ipython3",
   "version": "3.10.14"
  }
 },
 "nbformat": 4,
 "nbformat_minor": 2
}
